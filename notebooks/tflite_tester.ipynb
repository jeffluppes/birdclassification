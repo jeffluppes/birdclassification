{
 "cells": [
  {
   "cell_type": "markdown",
   "metadata": {},
   "source": [
    "This notebook is nothing spectacular, it just shows some ways of getting single and batch predictions with TensorFlow Lite."
   ]
  },
  {
   "cell_type": "code",
   "execution_count": 37,
   "metadata": {},
   "outputs": [],
   "source": [
    "from tensorflow.lite.python.interpreter import Interpreter\n",
    "import pickle\n",
    "import numpy as np\n",
    "import time"
   ]
  },
  {
   "cell_type": "code",
   "execution_count": 15,
   "metadata": {},
   "outputs": [],
   "source": [
    "birdmodel = Interpreter(model_path='../raspberrypi/model.tflite')\n",
    "birdclassnames = pickle.load(open('../raspberrypi/birdclassnames.p', 'rb'))"
   ]
  },
  {
   "cell_type": "code",
   "execution_count": 113,
   "metadata": {},
   "outputs": [
    {
     "name": "stdout",
     "output_type": "stream",
     "text": [
      "Bird model is using the <class 'numpy.float32'> datatype\n"
     ]
    }
   ],
   "source": [
    "bm_type = birdmodel.get_output_details()[0]['dtype']\n",
    "print(f'Bird model is using the {bm_type} datatype') # quant models use uint8, others use float32 - need to adjust scripts for ints"
   ]
  },
  {
   "cell_type": "code",
   "execution_count": 99,
   "metadata": {},
   "outputs": [],
   "source": [
    "def get_n_random_samples(n):\n",
    "    x = np.array(np.random.random_sample([n,224,224,3]), dtype=bm_type)\n",
    "    return x"
   ]
  },
  {
   "cell_type": "code",
   "execution_count": 46,
   "metadata": {},
   "outputs": [],
   "source": [
    "def get_n_preds(imgs):\n",
    "    input_details = birdmodel.get_input_details()\n",
    "    output_details = birdmodel.get_output_details()\n",
    "    birdmodel.resize_tensor_input(input_details[0]['index'], (imgs.shape))\n",
    "    birdmodel.resize_tensor_input(output_details[0]['index'], (imgs.shape[0], len(birdclassnames))\n",
    "    birdmodel.allocate_tensors()\n",
    "    birdmodel.set_tensor(input_details[0]['index'], imgs)\n",
    "\n",
    "    birdmodel.invoke()\n",
    "\n",
    "    return birdmodel.get_tensor(output_details[0]['index'])"
   ]
  },
  {
   "cell_type": "code",
   "execution_count": 85,
   "metadata": {},
   "outputs": [],
   "source": [
    "def print_predictions(preds):\n",
    "    for p in preds:\n",
    "        print(birdclassnames[p.argmax(axis=0)])"
   ]
  },
  {
   "cell_type": "markdown",
   "metadata": {},
   "source": [
    "# Single prediction\n",
    "Testing a single prediction can be done by giving it a single tensor of size `[1,224,224,3]`"
   ]
  },
  {
   "cell_type": "code",
   "execution_count": 100,
   "metadata": {},
   "outputs": [
    {
     "name": "stdout",
     "output_type": "stream",
     "text": [
      "ekster\n",
      "This took 0.05004453659057617 seconds!\n"
     ]
    }
   ],
   "source": [
    "st = time.time()\n",
    "x = get_n_random_samples(1)\n",
    "preds = get_n_preds(x)\n",
    "print_predictions(preds)\n",
    "print(f'This took {time.time() - st} seconds!')"
   ]
  },
  {
   "cell_type": "markdown",
   "metadata": {},
   "source": [
    "# Multiple predictions\n",
    "Doing multiple predictions at once is harder. I am unsure what how performance in the notebook environment translates to pi performance, but lets give it a go."
   ]
  },
  {
   "cell_type": "code",
   "execution_count": 101,
   "metadata": {},
   "outputs": [
    {
     "name": "stdout",
     "output_type": "stream",
     "text": [
      "ekster\n",
      "ekster\n",
      "ekster\n",
      "ekster\n",
      "ekster\n",
      "ekster\n",
      "ekster\n",
      "ekster\n",
      "ekster\n",
      "ekster\n",
      "ekster\n",
      "ekster\n",
      "This took 0.3460347652435303 seconds!\n"
     ]
    }
   ],
   "source": [
    "st = time.time()\n",
    "x = get_n_random_samples(12)\n",
    "preds = get_n_preds(x)\n",
    "print_predictions(preds)\n",
    "print(f'This took {time.time() - st} seconds!')"
   ]
  },
  {
   "cell_type": "markdown",
   "metadata": {},
   "source": [
    "# Evaluating prediction time per bird\n",
    "I'm interested in the problem of scale. What if a flock flies over and I need to predict 32 birds at once? Would it be faster to predict these individually, or as a batch with resizing tensors and everything involved?"
   ]
  },
  {
   "cell_type": "code",
   "execution_count": 103,
   "metadata": {},
   "outputs": [
    {
     "data": {
      "image/png": "[encoded data removed]",
      "text/plain": [
       "<Figure size 432x288 with 1 Axes>"
      ]
     },
     "metadata": {
      "needs_background": "light"
     },
     "output_type": "display_data"
    }
   ],
   "source": [
    "results = []\n",
    "\n",
    "for i in range(1,32):\n",
    "    st = time.time()\n",
    "    x = get_n_random_samples(i)\n",
    "    get_n_preds(x)\n",
    "    results.append((time.time()-st)/np.float(i))\n",
    "    \n",
    "import matplotlib.pyplot as plt\n",
    "plt.plot(range(1,32), results)\n",
    "plt.show()"
   ]
  },
  {
   "cell_type": "markdown",
   "metadata": {},
   "source": [
    "Conclusion: although the overal time for prediction goes up, the time per prediction made actually goes down the more predictions you call at once."
   ]
  },
  {
   "cell_type": "code",
   "execution_count": null,
   "metadata": {},
   "outputs": [],
   "source": []
  }
 ],
 "metadata": {
  "kernelspec": {
   "display_name": "Python 3",
   "language": "python",
   "name": "python3"
  },
  "language_info": {
   "codemirror_mode": {
    "name": "ipython",
    "version": 3
   },
   "file_extension": ".py",
   "mimetype": "text/x-python",
   "name": "python",
   "nbconvert_exporter": "python",
   "pygments_lexer": "ipython3",
   "version": "3.7.4"
  }
 },
 "nbformat": 4,
 "nbformat_minor": 4
}
